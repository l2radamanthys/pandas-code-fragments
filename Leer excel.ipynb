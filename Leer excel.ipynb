{
 "cells": [
  {
   "cell_type": "code",
   "execution_count": 1,
   "id": "ca897779",
   "metadata": {},
   "outputs": [],
   "source": [
    "import pandas as pd"
   ]
  },
  {
   "cell_type": "markdown",
   "id": "50370596",
   "metadata": {},
   "source": [
    "## Leer Excel\n",
    "\n",
    "Leer hoja de archivo excel, especificar columnas, y usar **openpyxl**"
   ]
  },
  {
   "cell_type": "code",
   "execution_count": null,
   "id": "1c2b6c9f",
   "metadata": {},
   "outputs": [],
   "source": [
    "df = pd.read_excel(\n",
    "    \"archivo\", \n",
    "    sheet_name=\"Hoja1\", \n",
    "    skiprows=[0, 1, 2],\n",
    "    usecols=\"A:P\",\n",
    "    engine=\"openpyxl\"\n",
    ")"
   ]
  }
 ],
 "metadata": {
  "kernelspec": {
   "display_name": "Python 3 (ipykernel)",
   "language": "python",
   "name": "python3"
  },
  "language_info": {
   "codemirror_mode": {
    "name": "ipython",
    "version": 3
   },
   "file_extension": ".py",
   "mimetype": "text/x-python",
   "name": "python",
   "nbconvert_exporter": "python",
   "pygments_lexer": "ipython3",
   "version": "3.9.8"
  }
 },
 "nbformat": 4,
 "nbformat_minor": 5
}
